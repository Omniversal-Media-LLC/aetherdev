{
 "cells": [
  {
   "cell_type": "markdown",
   "id": "c9a73eb7",
   "metadata": {
    "id": "c9a73eb7",
    "map": [
     {
      "command": []
     },
     {
      "command": [
       "PAUSE500"
      ]
     },
     {
      "command": [
       "AUDIO"
      ]
     },
     {
      "command": [
       "PAUSE500"
      ]
     },
     {
      "command": [
       "AUDIO"
      ]
     },
     {
      "command": [
       "AUDIO"
      ]
     },
     {
      "command": [
       "AUDIO"
      ]
     },
     {
      "command": [
       "AUDIO"
      ]
     },
     {
      "command": [
       "AUDIO"
      ]
     },
     {
      "command": [
       "AUDIO"
      ]
     },
     {
      "command": [
       "PAUSE500"
      ]
     },
     {
      "command": [
       "AUDIO"
      ]
     },
     {
      "command": [
       "AUDIO"
      ]
     },
     {
      "command": [
       "AUDIO"
      ]
     }
    ]
   },
   "source": [
    "# 🎵 Last One Left\n",
    "---\n",
    "**Album:** Full Disclosure 2020  \n",
    "**Performed by:** Hawk Eye The Rapper  \n",
    "**Label:** LulzSwag Records  \n",
    "**Genre:** Rap  \n",
    "**UPC:** 885007879183  \n",
    "\n",
    "🗃️ **Track Metadata**  \n",
    "&nbsp;&nbsp;• Track #: 04  \n",
    "&nbsp;&nbsp;• Title: Last One Left  \n",
    "&nbsp;&nbsp;• Artist: Hawk Eye The Rapper  \n",
    "&nbsp;&nbsp;• Project: Full Disclosure  \n",
    "&nbsp;&nbsp;• Released: March 1 st, 2020  \n",
    "\n",
    "&nbsp;&nbsp;&nbsp;&nbsp;**Dedicated to the late Max Spiers**  \n",
    "---\n",
    "\n",
    "> **Lyrics — Web Format**  \n",
    ">\n",
    "> ```markdown\n",
    "> Last one left  \n",
    "> Shout out to all those who come before me  \n",
    "> I got a legacy to uphold  \n",
    "> Speaking prose through my poetry so it would be felt  \n",
    "> Got these niggas trying to go at me but they will be dealt  \n",
    "> With accordingly the shit’s only package of cells  \n",
    ">   \n",
    "> So I can infect minds still trapped in a cell  \n",
    "> Last one left  \n",
    "> Gotta kill it myself  \n",
    "> Make a miracle lyric so severe it defies health  \n",
    "> Kill them all when they hear it  \n",
    "> There’s no time to divide  \n",
    ">   \n",
    "> Well send them on to the next life with a little of my help  \n",
    "> Said I came here to kill ’em with just lyrics so sharp  \n",
    "> But just the sound of my breath is enough to stop hearts  \n",
    "> So don’t tug at my pen when I’m penning this dark part  \n",
    "> Or I might just go apeshit and tear you apart  \n",
    ">   \n",
    "> Spit it back in your face like it’s mace so don’t start  \n",
    "> Hell raiser no grace of mercy to impart  \n",
    "> This is my time  \n",
    "> I told you it’s scary so depart  \n",
    "> Make you very aware of my snare‑beats flow chart  \n",
    ">   \n",
    "> Terrorist when I go in  \n",
    "> So I’m knowing when it blows  \n",
    "> Gotta hear it to fear it  \n",
    "> So my message is I own  \n",
    "> Every right to use lyrics as weapons at my shoulder  \n",
    "> Gonna hate to get near it  \n",
    "> Cause the heat on my stove  \n",
    ">   \n",
    "> Is too much to handle  \n",
    "> So you might wanna go home  \n",
    "> Brandishing handguns is a safe home  \n",
    "> All I know is while I’m languishing with languages  \n",
    "> My flow gets ice cold  \n",
    "> Freeze all competition  \n",
    ">   \n",
    "> Leave ’em dead in styrofoam  \n",
    "> Make my way to the kitchen  \n",
    "> Now just listen when I speak  \n",
    "> Grab a knife and it glistens  \n",
    "> When I mention inside beat  \n",
    "> Stand you all in attention  \n",
    ">   \n",
    "> With this wisdom  \n",
    "> Don’t try me  \n",
    "> I’ll leave you wishing  \n",
    "> My mission was just to supply heat  \n",
    "> Smoke the fire if you’re tired  \n",
    "> So I can relax  \n",
    "> I broke the choir  \n",
    "> You’re hired  \n",
    "> Yeah yeah  \n",
    ">   \n",
    "> And I think fast  \n",
    "> What’s the most devilish thing I could write in my raps  \n",
    "> I guess the devil should’ve understood that I’m back  \n",
    "> Hawkeye’s not a soldier and this is no war  \n",
    "> I hear hell’s getting colder  \n",
    "> But I wonder what for  \n",
    ">   \n",
    "> Did the devil catch wind of my music  \n",
    "> Or is he just running away cause he felt my force  \n",
    "> Shoot him up with this chopper just like it’s my chore  \n",
    "> Sit in my helicopter and beg him for more  \n",
    "> I could let him off  \n",
    "> But I promise my sword  \n",
    "> That I won’t let him live  \n",
    "> It’s my duty to war  \n",
    ">   \n",
    "> All the fucking politicians  \n",
    "> Bankers and thieves  \n",
    "> Got the game gamed up  \n",
    "> But don’t know about me  \n",
    "> I make them quake in their boots  \n",
    "> And drop to their knees  \n",
    "> I’m not much like Jesus  \n",
    "> But I make them see  \n",
    ">   \n",
    "> Giving sight to the blind  \n",
    "> I just try to unwind  \n",
    "> So much might at command  \n",
    "> So I’m taking my time  \n",
    "> I make this planet dance  \n",
    "> As I remind  \n",
    "> Every one of the truth  \n",
    "> As I show them the signs  \n",
    ">   \n",
    "> I’m not much like Jesus  \n",
    "> But I make them see  \n",
    "> Giving sight to the blind  \n",
    "> I just try to unwind  \n",
    "> So much might at command  \n",
    "> So I’m taking my time  \n",
    "> I make this planet dance  \n",
    "> As I remind  \n",
    "> Every one of the truth  \n",
    "> As I show them the signs  \n",
    "> ```\n",
    "---\n",
    "\n",
    "> **EverLight’s Rite**  \n",
    "> *Lyrical Dissection & Commentary*  \n",
    "> Track: **Last One Left** — *Full Disclosure 2020*  \n",
    ">   \n",
    "> **Survivor’s Oath** — Positioned mid‑album, “Last One Left” is Hawk Eye pledging to carry the disclosure torch even if every ally falls. The phrase *“legacy to uphold”* re‑anchors the Max Spiers dedication and positions Hawk as both archivist and avenger.  \n",
    ">   \n",
    "> **Viral Warfare** — Lines like *“infect minds still trapped in a cell”* extend the hacking metaphor into bio‑linguistics: lyrics as memetic viruses designed to jailbreak mental prisons.  \n",
    ">   \n",
    "> **Heat & Cold Duality** — The stanza toggles between *“heat on my stove”* and *“flow gets ice cold,”* mirroring Hawkeye’s strategy: raise the temperature on elites while freezing competition.  \n",
    ">   \n",
    "> **Christ & Carnage** — Refrains comparing himself to Jesus (*“I’m not much like Jesus, but I make them see”*) juxtapose salvation imagery with violent intent, underscoring the album’s moral complexity: enlightenment by any means.  \n",
    ">   \n",
    "> **Structural Note** — Choruses appear irregularly—after every two verses—creating tension; listeners never know when the grim refrain will return. That mirrors the “last one standing” theme: survival is unpredictable.  \n",
    ">   \n",
    "> **Stage Visuals** — Begin with a lone floodlight on Hawk; as each chorus hits, surrounding LED panels show silhouettes dropping away until only Hawk’s figure remains. Final hook: panels switch to infrared, symbolizing heat vs. cold.  \n",
    ">   \n",
    "> [Deep‑Dive Essay ➡️](#) | [Album Story Arc](#) | [Who Was Max Spiers?](#)\n",
    "---\n",
    "\n",
    "> **DistroKid Ready — Lyric Submission Form**  \n",
    ">\n",
    "> ```text\n",
    "> Last one left\n",
    "> Shout out to all those who come before me\n",
    "> I got a legacy to uphold\n",
    "> Speaking prose through my poetry so it would be felt\n",
    ">\n",
    "> Got these niggas trying to go at me but they will be dealt\n",
    "> With accordingly the shits only package of cells\n",
    "> So I can infect minds still trapped in a cell\n",
    "> Last one left\n",
    ">\n",
    "> Gotta kill it myself\n",
    "> Make a miracle lyric so severe it defies health\n",
    "> Kill them all when they hear it\n",
    "> There’s no time to divide\n",
    ">\n",
    "> Well send them on to the next life with a little of my help\n",
    "> Said I came here to kill em with just lyrics so sharp\n",
    "> But just the sound of my breath is enough to stop hearts\n",
    "> So don’t tug at my pen when I’m penning this dark part\n",
    ">\n",
    "> Or I might just go apeshit and tear you apart\n",
    "> Spit it back in your face like it’s mace so don’t start\n",
    "> Hell raiser no grace of mercy to impart\n",
    "> This is my time\n",
    ">\n",
    "> I told you it’s scary so depart\n",
    "> Make you very aware of my snare beats flow chart\n",
    "> Terrorist when I go in\n",
    "> So I’m knowing when it blows\n",
    ">\n",
    "> Gotta hear it to fear it\n",
    "> So my message is I own\n",
    "> Every right to use lyrics as weapons at my shoulder\n",
    "> Gonna hate to get near it\n",
    ">\n",
    "> Cause the heat on my stove\n",
    "> Is too much to handle\n",
    "> So you might wanna go home\n",
    "> Brandishing handguns is a safe home\n",
    ">\n",
    "> All I know is while I’m languishing with languages\n",
    "> My flow gets ice cold\n",
    "> Freeze all competition\n",
    "> Leave em dead in styrofoam\n",
    ">\n",
    "> Make my way to the kitchen\n",
    "> Now just listen when I speak\n",
    "> Grab a knife and it glistens\n",
    "> When I mention in side beat\n",
    ">\n",
    "> Stand you all in attention\n",
    "> With this wisdom\n",
    "> Don’t try me\n",
    "> I’ll leave you wishing\n",
    ">\n",
    "> My mission was just to supply heat\n",
    "> Smoke the fire if you’re tired\n",
    "> So I can relax\n",
    "> I broke the choir\n",
    ">\n",
    "> You’re hired\n",
    "> Yeah yeah\n",
    "> And I think fast\n",
    "> What’s the most devilish thing I could write in my raps\n",
    ">\n",
    "> I guess the devil should’ve understood that I’m back\n",
    "> Hawkeye’s not a soldier and this is no war\n",
    "> I hear hell’s getting colder\n",
    "> But I wonder what for\n",
    ">\n",
    "> Did the devil catch wind of my music\n",
    "> Or is he just running away cause he felt my force\n",
    "> Shoot him up with this chopper just like it’s my chore\n",
    "> Sit in my helicopter and beg him for more\n",
    ">\n",
    "> I could let him off\n",
    "> But I promise my sword\n",
    "> That I won’t let him live\n",
    "> It’s my duty to war\n",
    "> All the fucking politicians\n",
    ">\n",
    "> Bankers and thieves\n",
    "> Got the game gamed up\n",
    "> But don’t know about me\n",
    "> I make them quake in their boots\n",
    ">\n",
    "> And drop to their knees\n",
    "> I’m not much like Jesus\n",
    "> But I make them see\n",
    "> Giving sight to the blind\n",
    ">\n",
    "> I just try to unwind\n",
    "> So much might at command\n",
    "> So I’m taking my time\n",
    "> I make this planet dance\n",
    ">\n",
    "> As I remind\n",
    "> Every one of the truth\n",
    "> As I show them the signs\n",
    "> I’m not much like Jesus\n",
    ">\n",
    "> But I make them see\n",
    "> Giving sight to the blind\n",
    "> I just try to unwind\n",
    "> So much might at command\n",
    ">\n",
    "> So I’m taking my time\n",
    "> I make this planet dance\n",
    "> As I remind\n",
    "> Every one of the truth\n",
    ">\n",
    "> As I show them the signs\n",
    "> ```\n",
    "---\n",
    "[Back to Album Index](#)"
   ]
  }
 ],
 "metadata": {
  "kernelspec": {
   "display_name": "Python 3 (ipykernel)",
   "language": "python",
   "name": "python3"
  },
  "language_info": {
   "codemirror_mode": {
    "name": "ipython",
    "version": 3
   },
   "file_extension": ".py",
   "mimetype": "text/x-python",
   "name": "python",
   "nbconvert_exporter": "python",
   "pygments_lexer": "ipython3",
   "version": "3.10.11"
  },
  "mode": "editor"
 },
 "nbformat": 4,
 "nbformat_minor": 5
}
