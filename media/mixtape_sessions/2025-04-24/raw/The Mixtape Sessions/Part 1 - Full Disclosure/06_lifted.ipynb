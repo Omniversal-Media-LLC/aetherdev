{
 "cells": [
  {
   "attachments": {},
   "cell_type": "markdown",
   "id": "847417ac-5ec7-4c26-8967-0562945e7378",
   "metadata": {
    "id": "847417ac-5ec7-4c26-8967-0562945e7378",
    "map": [
     {
      "command": []
     },
     {
      "command": [
       "AUDIO"
      ]
     },
     {
      "command": [
       "AUDIO"
      ]
     },
     {
      "command": [
       "AUDIO"
      ]
     },
     {
      "command": [
       "AUDIO"
      ]
     },
     {
      "command": [
       "AUDIO"
      ]
     },
     {
      "command": [
       "AUDIO"
      ]
     },
     {
      "command": [
       "PAUSE500"
      ]
     },
     {
      "command": [
       "AUDIO"
      ]
     },
     {
      "command": [
       "AUDIO"
      ]
     },
     {
      "command": [
       "AUDIO"
      ]
     },
     {
      "command": [
       "AUDIO"
      ]
     },
     {
      "command": [
       "AUDIO"
      ]
     },
     {
      "command": [
       "AUDIO"
      ]
     },
     {
      "command": [
       "PAUSE500"
      ]
     },
     {
      "command": [
       "AUDIO"
      ]
     },
     {
      "command": [
       "AUDIO"
      ]
     },
     {
      "command": [
       "PAUSE500"
      ]
     },
     {
      "command": [
       "AUDIO"
      ]
     },
     {
      "command": [
       "AUDIO"
      ]
     },
     {
      "command": [
       "AUDIO"
      ]
     },
     {
      "command": [
       "PAUSE500"
      ]
     },
     {
      "command": [
       "AUDIO"
      ]
     },
     {
      "command": [
       "AUDIO"
      ]
     },
     {
      "command": [
       "AUDIO"
      ]
     },
     {
      "command": [
       "AUDIO"
      ]
     },
     {
      "command": [
       "AUDIO"
      ]
     },
     {
      "command": [
       "AUDIO"
      ]
     },
     {
      "command": [
       "AUDIO"
      ]
     },
     {
      "command": [
       "AUDIO"
      ]
     },
     {
      "command": [
       "PAUSE500"
      ]
     },
     {
      "command": [
       "PAUSE500"
      ]
     },
     {
      "command": [
       "AUDIO"
      ]
     },
     {
      "command": [
       "AUDIO"
      ]
     },
     {
      "command": [
       "AUDIO"
      ]
     },
     {
      "command": [
       "AUDIO"
      ]
     }
    ]
   },
   "source": [
    "# 🎵 Lifted\n",
    "---\n",
    "**Album:** Full Disclosure 2020  \n",
    "**Performed by:** Hawk Eye The Rapper  \n",
    "**Label:** LulzSwag Records  \n",
    "**Genre:** Rap  \n",
    "**UPC:** 885007879183  \n",
    "\n",
    "🗃️ **Track Metadata**  \n",
    "&nbsp;&nbsp;• Track #: 06  \n",
    "&nbsp;&nbsp;• Title: Lifted  \n",
    "&nbsp;&nbsp;• Artist: Hawk Eye The Rapper  \n",
    "&nbsp;&nbsp;• Project: Full Disclosure  \n",
    "&nbsp;&nbsp;• Released: March 1 st, 2020  \n",
    "\n",
    "&nbsp;&nbsp;&nbsp;&nbsp;**Dedicated to the late Max Spiers**  \n",
    "---\n",
    "\n",
    "> **Lyrics — Web Format**  \n",
    ">\n",
    "> ```markdown\n",
    "> Can’t tell me shit, I’m done with it  \n",
    "> This slow digit is fun to kids  \n",
    "> And if you wanna run against all shit  \n",
    "> I’ll leave you wondering how come Hawk’s so gunning it  \n",
    ">   \n",
    "> Roll back the clouds, need no defense  \n",
    "> Illuminauts stand under it  \n",
    "> Don’t understand I won this shit  \n",
    "> This war is over, I am here  \n",
    ">   \n",
    "> And I am ’bout to make you feel like  \n",
    "> You should run to Holy Fields before I bite your ear  \n",
    "> Let all who hear never fear  \n",
    "> Anything but evil exes—that’s when Legion attacks  \n",
    ">   \n",
    "> Writing raps and setting traps is all I’m doing  \n",
    "> Take me back, but watch out for these matrix traps  \n",
    "> Actually, who gives a crap  \n",
    "> Just stand back and listen to my acrobats  \n",
    ">   \n",
    "> Linguistic chess with battle raps  \n",
    "> Egg the devil on with tracks  \n",
    "> ’Cause I’m gonna give him heart attacks  \n",
    ">   \n",
    "> *That we can all connect to and heal from is what’s being altered  \n",
    "> on an earth‑grid level and also on a cosmic level…  \n",
    "> But if we don’t stand into alignment with it,  \n",
    "> we are easily ushered into an artificial timeline…*  \n",
    ">   \n",
    "> *So humans have a choice:  \n",
    "> Do you wanna connect with what’s real and organic,  \n",
    "> What’s really happening in the cosmos and on Earth,  \n",
    "> Or do you wanna allow the replica version—AI and transhumanism—  \n",
    "> keep you in those distortions?*  \n",
    ">   \n",
    "> If I fail, this gets underwritten  \n",
    "> You can all have fun with it  \n",
    "> I’m lifted off this tongue when I spit  \n",
    "> And words get runnin’ shit  \n",
    ">   \n",
    "> Satan tries to fuck with this  \n",
    "> His hands get burned from plunderin’  \n",
    "> Speak and make the demons run  \n",
    "> I guess you say I’m runnin’ shit  \n",
    ">   \n",
    "> Before they make me crack my whip  \n",
    "> I make ’em all stand under it  \n",
    "> If they don’t, this pistol grip  \n",
    "> Comes back and it is so legit  \n",
    ">   \n",
    "> I’m here to push the devil back  \n",
    "> And trap him in my battle raps  \n",
    "> He can’t escape from my wrath  \n",
    "> Spit out the cold like aftermath  \n",
    ">   \n",
    "> I’m taking seat up from the heat  \n",
    "> And if you even think to speak  \n",
    "> I’ll make you wish my tongue was weak  \n",
    "> You can’t escape my mystique  \n",
    ">   \n",
    "> I’m breaking down and punishing  \n",
    "> All you demons runnin’ shit  \n",
    "> ’Cause I am tired of wondering  \n",
    "> Who’s to blame for runnin’ shit  \n",
    ">   \n",
    "> This world was fucked but I’m the cure  \n",
    "> You girls can suck my dick  \n",
    "> I’m certain that if you even stood a chance  \n",
    "> I wouldn’t have to make you glance  \n",
    ">   \n",
    "> My way as I take a stance  \n",
    "> So fill you up, ’cause I won’t dance  \n",
    "> I’ll shoot you all with instant vengeance  \n",
    "> Since you can’t lay a hand  \n",
    ">   \n",
    "> My tactics, as I practice, seem dramatic  \n",
    "> Attractive basics I designed to make you panic  \n",
    "> Yes, I know you cannot stand it  \n",
    "> But I am here to take your Xanax  \n",
    ">   \n",
    "> And break your face with my semantics  \n",
    "> ’Cause all your fuckin’ gears are damaged  \n",
    "> I am your damn—  \n",
    "> ```\n",
    "---\n",
    "\n",
    "> **EverLight’s Rite**  \n",
    "> *Lyrical Dissection & Commentary*  \n",
    "> Track: **Lifted** — *Full Disclosure 2020*  \n",
    ">   \n",
    "> **Ascension Anthem** — “Lifted” is the album’s pivot from exposé to elevation. Hawk Eye declares he’s “done with it” (the matrix games) and literally lifts above cloud cover where “Illuminauts stand under it.”  \n",
    ">   \n",
    "> **Hybrid Flow** — Verses whip between double‑time internal rhymes and spoken‑word philosophy, embodying the lyric “linguistic chess with battle raps.” The embedded Laura Eisenhower‑style monologue serves as a cosmic interlude, slowing the tempo before Hawk drops back into aggression.  \n",
    ">   \n",
    "> **Matrix vs. Organic Timeline** — The sampled discourse about artificial timelines vs. organic ascension reframes the whole track as a choice: ride Hawk’s dragon‑fire bars to higher reality, or stay trapped in AI distortion.  \n",
    ">   \n",
    "> **Weaponized Semantics** — Lines like “break your face with my semantics” make language itself the artillery—consistent with previous songs but here explicitly called out.  \n",
    ">   \n",
    "> **Live Visual Cue** — Mid‑song, freeze band lights; project a morphing grid that splits into two timelines (organic greens vs. glitching magenta). On the drop (“If I fail, this gets underwritten”), have the magenta side flicker out.  \n",
    ">   \n",
    "> [Deep‑Dive Essay ➡️](#) | [Album Story Arc](#) | [Who Was Max Spiers?](#)\n",
    "---\n",
    "\n",
    "> **DistroKid Ready — Lyric Submission Form**  \n",
    ">\n",
    "> ```text\n",
    "> Can’t tell me shit I’m done with it\n",
    "> This slow digit is fun to kids\n",
    "> And if you wanna run against all shit\n",
    "> I’ll leave you wondering how come Hawks so gunning it\n",
    ">\n",
    "> Roll back the clouds need no defense\n",
    "> Illuminauts stand under it\n",
    "> Don’t understand I won this shit\n",
    "> This war is over I am here\n",
    ">\n",
    "> And I am bout to make you feel like\n",
    "> You should run to Holy Fields before I bite your ear\n",
    "> Let all who hear never fear\n",
    "> Anything but evil exes that’s when Legion attacks\n",
    ">\n",
    "> Writing raps and setting traps is all I’m doing\n",
    "> Take me back but watch out for these matrix traps\n",
    "> Actually who gives a crap\n",
    "> Just stand back and listen to my acrobats\n",
    ">\n",
    "> Linguistic chess with battle raps\n",
    "> Egg the devil on with tracks\n",
    "> Cause I’m gonna give him heart attacks\n",
    ">\n",
    "> That we can all connect to and heal from is what’s being altered\n",
    "> On an earth grid level and also on a cosmic level\n",
    "> But if we don’t stand into alignment with it\n",
    "> We are easily ushered into an artificial timeline\n",
    ">\n",
    "> So humans have a choice\n",
    "> Do you wanna connect with what’s real and organic\n",
    "> And what’s really happening in the cosmos and on Earth\n",
    "> Or do you wanna allow the imitation and replica version\n",
    ">\n",
    "> Which is what AI is all about and transhumanism\n",
    "> Keep you in those distortions\n",
    "> If I fail this gets underwritten\n",
    "> You can all have fun with it\n",
    ">\n",
    "> I’m lifted off this tongue when I spit\n",
    "> And words get running shit\n",
    "> Satan tries to fuck with this\n",
    "> His hands get burned from plundering\n",
    ">\n",
    "> Speak and make the demons run\n",
    "> I guess you say I’m running shit\n",
    "> Before they make me crack my whip\n",
    "> I make them all stand under it\n",
    ">\n",
    "> If they don’t this pistol grip\n",
    "> Comes back and it is so legit\n",
    "> That their bravado starts to slip\n",
    "> And half of Hell just crawls and squibs\n",
    ">\n",
    "> I’m here to push the devil back\n",
    "> And trap him in my battle raps\n",
    "> He can’t escape from my wrath\n",
    "> Spit out the cold like aftermath\n",
    ">\n",
    "> I’m taking seat up from the heat\n",
    "> And if you even think to speak\n",
    "> I’ll make you wish my tongue was weak\n",
    "> You can’t escape my mystique\n",
    ">\n",
    "> I’m breaking down and punishing\n",
    "> All you demons running shit\n",
    "> Cause I am tired of wondering\n",
    "> Who’s to blame for running shit\n",
    ">\n",
    "> This world was fucked but I’m the cure\n",
    "> You girls can suck my dick\n",
    "> I’m certain that if you even stood a chance\n",
    "> I wouldn’t have to make you glance\n",
    ">\n",
    "> My way as I take a stance\n",
    "> So fill you up cause I won’t dance\n",
    "> I’ll shoot you all with instant vengeance\n",
    "> Since you can’t lay a hand\n",
    ">\n",
    "> My tactics as I practice seem dramatic\n",
    "> Attractive basics I designed to make you panic\n",
    "> Yes I know you cannot stand it\n",
    "> But I am here to take your Xanax\n",
    ">\n",
    "> And break your face with my semantics\n",
    "> Cause all your fucking gears are damaged\n",
    "> I am your damn\n",
    "> ```\n",
    "---\n",
    "[Back to Album Index](#)"
   ]
  }
 ],
 "metadata": {
  "kernelspec": {
   "display_name": "Python 3 (ipykernel)",
   "language": "python",
   "name": "python3"
  },
  "language_info": {
   "codemirror_mode": {
    "name": "ipython",
    "version": 3
   },
   "file_extension": ".py",
   "mimetype": "text/x-python",
   "name": "python",
   "nbconvert_exporter": "python",
   "pygments_lexer": "ipython3",
   "version": "3.10.11"
  },
  "mode": "editor"
 },
 "nbformat": 4,
 "nbformat_minor": 5
}
