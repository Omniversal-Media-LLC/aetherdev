{
 "cells": [
  {
   "cell_type": "markdown",
   "id": "eac3652c",
   "metadata": {
    "id": "eac3652c",
    "map": [
     {
      "command": []
     },
     {
      "command": [
       "PAUSE500"
      ]
     },
     {
      "command": [
       "AUDIO"
      ]
     },
     {
      "command": [
       "PAUSE500"
      ]
     },
     {
      "command": [
       "AUDIO"
      ]
     },
     {
      "command": [
       "AUDIO"
      ]
     },
     {
      "command": [
       "AUDIO"
      ]
     },
     {
      "command": [
       "AUDIO"
      ]
     },
     {
      "command": [
       "AUDIO"
      ]
     },
     {
      "command": [
       "AUDIO"
      ]
     },
     {
      "command": [
       "PAUSE500"
      ]
     },
     {
      "command": [
       "AUDIO"
      ]
     },
     {
      "command": [
       "AUDIO"
      ]
     },
     {
      "command": [
       "AUDIO"
      ]
     }
    ]
   },
   "source": [
    "# 🎵 Shakur\n",
    "---\n",
    "**Album:** Full Disclosure 2020  \n",
    "**Performed by:** Hawk Eye The Rapper  \n",
    "**Label:** LulzSwag Records  \n",
    "**Genre:** Rap  \n",
    "**UPC:** 885007879183  \n",
    "\n",
    "🗃️ **Track Metadata**  \n",
    "&nbsp;&nbsp;• Track #: 03  \n",
    "&nbsp;&nbsp;• Title: Shakur  \n",
    "&nbsp;&nbsp;• Artist: Hawk Eye The Rapper  \n",
    "&nbsp;&nbsp;• Project: Full Disclosure  \n",
    "&nbsp;&nbsp;• Released: March 1 st, 2020  \n",
    "\n",
    "&nbsp;&nbsp;&nbsp;&nbsp;**Dedicated to the late Max Spiers**  \n",
    "---\n",
    "\n",
    "> **Lyrics — Web Format**  \n",
    ">\n",
    "> ```markdown\n",
    "> This world is such a  \n",
    "> And when I say this world I mean it  \n",
    "> I don’t mean in an ideal sense  \n",
    "> I mean in an everyday  \n",
    "> Every little thing you do  \n",
    "> It’s such a  \n",
    "> Gimme gimme gimme  \n",
    "> Everybody back off  \n",
    "> You know what everybody’s like  \n",
    "> And you’re taught that from school  \n",
    "> Everywhere  \n",
    "> Big business  \n",
    "> You wanna be successful  \n",
    "> You wanna be like Trump  \n",
    "> Gimme gimme gimme  \n",
    "> Push push push push  \n",
    "> Step step step  \n",
    ">   \n",
    "> They’re so greedy  \n",
    "> I don’t think they can see  \n",
    "> Why is everybody always pushing me  \n",
    "> They’re so greedy  \n",
    "> If only they could see  \n",
    "> I wish everybody would stop pushing me  \n",
    ">   \n",
    "> You push me  \n",
    "> I push back  \n",
    "> I ain’t even gotta clap  \n",
    "> Put your lights out quick  \n",
    "> Now just listen to this rap  \n",
    "> If this time bomb ticks  \n",
    "> There’s no telling when it quits  \n",
    "> If you niggas wanna scrap  \n",
    "> I hope you get your brains fixed  \n",
    "> I ain’t even tryna play  \n",
    "> I could do this shit all day  \n",
    "> But you can’t  \n",
    "> So I’m with this world  \n",
    "> Ain’t ready for this song  \n",
    "> I’m a menace fan  \n",
    "> I’m sold with a vengeance  \n",
    "> Bring it on  \n",
    "> I told the devil  \n",
    "> Pipe down and turn my music up  \n",
    ">   \n",
    "> They’re so greedy … *(chorus repeats)*  \n",
    ">   \n",
    "> Sit down little clowns  \n",
    "> Yeah I see you tryna frown  \n",
    "> Turn around before my fucking hookah stuck in your bowels  \n",
    "> Cause I came to rip it up and make you shit  \n",
    "> So don’t cluck you fucking chickens  \n",
    "> Get the fuck  \n",
    "> You just wish this shit was left  \n",
    "> But I work every day to make sure that what I’m saying gets heard  \n",
    "> Every word so you know I’m not playing  \n",
    "> If Illuminati are humble then good  \n",
    "> I won’t stumble  \n",
    "> They might fumble  \n",
    "> Then I’ll crush them all under my thumb  \n",
    ">   \n",
    "> They’re so greedy … *(chorus)*  \n",
    ">   \n",
    "> One more thing  \n",
    "> Before I go away  \n",
    "> Hawkeye is back  \n",
    "> I’m not Shakur but I’ll stay  \n",
    "> If you wanna go  \n",
    "> I will still remain  \n",
    "> But you won’t soak me  \n",
    "> Careful what you say  \n",
    "> Whole world’s watching  \n",
    "> All eyes on me  \n",
    "> Hawk will make them lay down  \n",
    "> Yeah watch them watching me  \n",
    "> Many men died tryna speak the truth  \n",
    "> But these puppets can’t touch it  \n",
    "> Living legend in this mood  \n",
    ">   \n",
    "> They’re so greedy … *(chorus)*  \n",
    "> ```\n",
    "---\n",
    "\n",
    "> **EverLight’s Rite**  \n",
    "> *Lyrical Dissection & Commentary*  \n",
    "> Track: **Shakur** — *Full Disclosure 2020*  \n",
    ">   \n",
    "> **Tupac Invocation** — The intro samples 2Pac’s famous “this world is such a gimme” rant, positioning Hawk Eye as heir to the rebel‑poet throne. By declaring *“I’m not Shakur but I’ll stay,”* he both honors and distinguishes himself from the martyr archetype.  \n",
    ">   \n",
    "> **Greed Motif** — The repeating hook “They’re so greedy” transforms 2Pac’s social‑justice critique into a 2025 context: corporate data‑mining, influencer culture, and black‑budget psy‑ops.  \n",
    ">   \n",
    "> **Call‑and‑Response Flow** — Verses alternate between taunting antagonists (“Sit down little clowns”) and communal lament (“Why is everybody always pushing me”), letting crowds echo either part.  \n",
    ">   \n",
    "> **Mythic Continuity** — References to Illuminati, devils, and “eyes on me” tie Shakur’s legend to Hawk Eye’s ongoing disclosure battle. The line *“Whole world’s watching / All eyes on me”* flips 2Pac’s title into a surveillance‑state warning.  \n",
    ">   \n",
    "> **Structural Note** — Three full hook cycles create a song‑within‑a‑song cadence: spoken‑word intro → verse‑hook‑verse‑hook‑bridge‑hook → outro. That mirrors 2Pac’s own storytelling arcs.  \n",
    ">   \n",
    "> **Suggested Stage Visuals** — Begin with grainy VHS of 2Pac’s interview; as the first hook hits, swap to a live‑feed grid of audience phone cameras, driving home “all eyes on me.”  \n",
    ">   \n",
    "> [Deep‑Dive Essay ➡️](#) | [Album Story Arc](#) | [Who Was Max Spiers?](#)\n",
    "---\n",
    "\n",
    "> **DistroKid Ready — Lyric Submission Form**  \n",
    ">\n",
    "> ```text\n",
    "> This world is such a\n",
    "> And when I say this world I mean it\n",
    "> I don’t mean in an ideal sense\n",
    "> I mean in an everyday\n",
    ">\n",
    "> Every little thing you do\n",
    "> It’s such a\n",
    "> Gimme gimme gimme\n",
    "> Everybody back off\n",
    ">\n",
    "> You know what everybody’s like\n",
    "> And you’re taught that from school\n",
    "> Everywhere\n",
    "> Big business\n",
    ">\n",
    "> You wanna be successful\n",
    "> You wanna be like Trump\n",
    "> Gimme gimme gimme\n",
    "> Push push push push\n",
    ">\n",
    "> Step step step\n",
    "> They’re so greedy\n",
    "> I don’t think they can see\n",
    "> Why is everybody always pushing me\n",
    ">\n",
    "> They’re so greedy\n",
    "> If only they could see\n",
    "> I wish everybody would stop pushing me\n",
    ">\n",
    "> You push me\n",
    "> I push back\n",
    "> I ain’t even gotta clap\n",
    "> Put your lights out quick\n",
    ">\n",
    "> Now just listen to this rap\n",
    "> If this time bomb ticks\n",
    "> There’s no telling when it quits\n",
    "> If you niggas wanna scrap\n",
    ">\n",
    "> I hope you get your brains fixed\n",
    "> I ain’t even tryna play\n",
    "> I could do this shit all day\n",
    "> But you can’t\n",
    ">\n",
    "> So I’m with this world\n",
    "> Ain’t ready for this song\n",
    "> I’m a menace fan\n",
    "> I’m sold with a vengeance\n",
    ">\n",
    "> Bring it on\n",
    "> I told the devil\n",
    "> Pipe down and turn my music up\n",
    ">\n",
    "> They’re so greedy\n",
    "> I don’t think they can see\n",
    "> Why is everybody always pushing me\n",
    ">\n",
    "> They’re so greedy\n",
    "> If only they could see\n",
    "> I wish everybody would stop pushing me\n",
    ">\n",
    "> Sit down little clowns\n",
    "> Yeah I see you tryna frown\n",
    "> Turn around before my fucking hookah stuck in your bowels\n",
    ">\n",
    "> Cause I came to rip it up and make you shit\n",
    "> So don’t cluck you fucking chickens\n",
    "> Get the fuck\n",
    "> You just wish this shit was left\n",
    ">\n",
    "> But I work every day to make sure that what I’m saying gets heard\n",
    "> Every word so you know I’m not playing\n",
    "> If Illuminati are humble then good\n",
    ">\n",
    "> I won’t stumble\n",
    "> They might fumble\n",
    "> Then I’ll crush them all under my thumb\n",
    ">\n",
    "> They’re so greedy\n",
    "> I don’t think they can see\n",
    "> Why is everybody always pushing me\n",
    ">\n",
    "> They’re so greedy\n",
    "> If only they could see\n",
    "> I wish everybody would stop pushing me\n",
    ">\n",
    "> One more thing\n",
    "> Before I go away\n",
    "> Hawkeye is back\n",
    "> I’m not Shakur but I’ll stay\n",
    ">\n",
    "> If you wanna go\n",
    "> I will still remain\n",
    "> But you won’t soak me\n",
    "> Careful what you say\n",
    ">\n",
    "> Whole world’s watching\n",
    "> All eyes on me\n",
    "> Hawk will make them lay down\n",
    "> Yeah watch them watching me\n",
    ">\n",
    "> Many men died tryna speak the truth\n",
    "> But these puppets can’t touch it\n",
    "> Living legend in this mood\n",
    ">\n",
    "> They’re so greedy\n",
    "> I don’t think they can see\n",
    "> Why is everybody always pushing me\n",
    ">\n",
    "> They’re so greedy\n",
    "> If only they could see\n",
    "> I wish everybody would stop pushing me\n",
    "> ```\n",
    "---\n",
    "[Back to Album Index](#)"
   ]
  }
 ],
 "metadata": {
  "kernelspec": {
   "display_name": "Python 3 (ipykernel)",
   "language": "python",
   "name": "python3"
  },
  "language_info": {
   "codemirror_mode": {
    "name": "ipython",
    "version": 3
   },
   "file_extension": ".py",
   "mimetype": "text/x-python",
   "name": "python",
   "nbconvert_exporter": "python",
   "pygments_lexer": "ipython3",
   "version": "3.10.11"
  },
  "mode": "editor"
 },
 "nbformat": 4,
 "nbformat_minor": 5
}
