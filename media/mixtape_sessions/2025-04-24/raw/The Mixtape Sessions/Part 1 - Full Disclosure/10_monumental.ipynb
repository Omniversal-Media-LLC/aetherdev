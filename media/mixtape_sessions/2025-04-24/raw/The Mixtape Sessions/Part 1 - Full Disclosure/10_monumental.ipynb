{
 "cells": [
  {
   "attachments": {},
   "cell_type": "markdown",
   "id": "3d4d6fec-51b5-49ba-819b-9f65a54c1c42",
   "metadata": {
    "id": "3d4d6fec-51b5-49ba-819b-9f65a54c1c42",
    "map": [
     {
      "command": []
     },
     {
      "command": [
       "AUDIO"
      ]
     },
     {
      "command": [
       "AUDIO"
      ]
     },
     {
      "command": [
       "AUDIO"
      ]
     },
     {
      "command": [
       "AUDIO"
      ]
     },
     {
      "command": [
       "AUDIO"
      ]
     },
     {
      "command": [
       "AUDIO"
      ]
     },
     {
      "command": [
       "PAUSE500"
      ]
     },
     {
      "command": [
       "AUDIO"
      ]
     },
     {
      "command": [
       "AUDIO"
      ]
     },
     {
      "command": [
       "AUDIO"
      ]
     },
     {
      "command": [
       "AUDIO"
      ]
     },
     {
      "command": [
       "AUDIO"
      ]
     },
     {
      "command": [
       "AUDIO"
      ]
     },
     {
      "command": [
       "PAUSE500"
      ]
     },
     {
      "command": [
       "AUDIO"
      ]
     },
     {
      "command": [
       "AUDIO"
      ]
     },
     {
      "command": [
       "PAUSE500"
      ]
     },
     {
      "command": [
       "AUDIO"
      ]
     },
     {
      "command": [
       "AUDIO"
      ]
     },
     {
      "command": [
       "AUDIO"
      ]
     },
     {
      "command": [
       "PAUSE500"
      ]
     },
     {
      "command": [
       "AUDIO"
      ]
     },
     {
      "command": [
       "AUDIO"
      ]
     },
     {
      "command": [
       "AUDIO"
      ]
     },
     {
      "command": [
       "AUDIO"
      ]
     },
     {
      "command": [
       "AUDIO"
      ]
     },
     {
      "command": [
       "AUDIO"
      ]
     },
     {
      "command": [
       "AUDIO"
      ]
     },
     {
      "command": [
       "AUDIO"
      ]
     },
     {
      "command": [
       "PAUSE500"
      ]
     },
     {
      "command": [
       "PAUSE500"
      ]
     },
     {
      "command": [
       "AUDIO"
      ]
     },
     {
      "command": [
       "AUDIO"
      ]
     },
     {
      "command": [
       "AUDIO"
      ]
     },
     {
      "command": [
       "AUDIO"
      ]
     }
    ]
   },
   "source": [
    "# 🎵 Monumental\n",
    "---\n",
    "**Album:** Full Disclosure 2020  \n",
    "**Performed by:** Hawk Eye The Rapper  \n",
    "**Label:** LulzSwag Records  \n",
    "**Genre:** Rap  \n",
    "**UPC:** 885007879183  \n",
    "**Track #: 10** • **Released:** 2020‑03‑01  \n",
    "&nbsp;&nbsp;&nbsp;&nbsp;**Dedicated to the late Max Spiers**  \n",
    "---\n",
    "\n",
    "> **Lyrics — Web Format (excerpt)**  \n",
    "> ```markdown\n",
    "> Blast back at niggas, before they get bigger  \n",
    "> Got God on my side, I ain’t worried about triggers  \n",
    "> Make my way through the thoroughfare, daring them to snicker  \n",
    "> All these demons know my name, they keep glaring as I deliver …  \n",
    "> ```\n",
    "---\n",
    "\n",
    "> **EverLight’s Rite — Lyrical Dissection & Commentary**  \n",
    "> **Flag‑Plant Track** — “Monumental” is Hawk Eye’s mission‑statement etched in granite. Earlier songs vowed resistance; this one declares permanent occupation of the cultural high ground.  \n",
    "> **Weapon Hierarchy** — The hook touts three tiers of firepower: the **pencil** (word spell), the **missile/whistle**, and finally **“God on my side.”** Hawk prioritizes logos over lead, but keeps both barrels ready.  \n",
    "> **Mythic Trash‑Talk** — Lines such as “I didn’t battle the devil—that faggot got raped” push horror‑core bravado to shock listeners into recognizing who the real villains are. It’s exorcism by humiliation.  \n",
    "> **Structural Echo** — Two identically phrased bridges (“If you wanna die now, I can pencil you in…”) mirror a sinner’s two chances: repent or repeat the cycle. Live crowds can chant the bridge while the beat drops to half‑time.  \n",
    "> **Sound Design** — Expect thunder‑drone bass under cathedral bells; each bell hit aligns with “monumental,” turning the word into a sonic statue.  \n",
    "> **Live Visual Cue** — Stage LEDs render stone pillars crumbling into pixel dust every time Hawk says “blast back,” symbolizing systems collapsing under lyrical impact.  \n",
    "> [Deep‑Dive Essay ➡️](#) | [Album Story Arc](#)\n",
    "---\n",
    "\n",
    "> **DistroKid Ready — Lyric Submission Form**  \n",
    "> *(4‑line stanzas, plain ASCII, no punctuation at line ends)*  \n",
    "> ```text\n",
    "> Blast back at niggas before they get bigger\n",
    "> Got God on my side I aint worried about triggers\n",
    "> Make my way through the thoroughfare daring them to snicker\n",
    "> All these demons know my name they keep glaring as I deliver\n",
    ">\n",
    "> A message to the devil written in blood\n",
    "> That says Im back so dont press your luck\n",
    "> I recorded him this track that says I dont give a fuck\n",
    "> So he will know Ive got him trapped when I hit him with this stud\n",
    ">\n",
    "> Missile blow the whistle Im detrimental with this pencil\n",
    "> Transcendental instrumentals keep me going its fundamental\n",
    "> To always let your enemies know youre monumental\n",
    "> And its not coincidental when they came at you as officials\n",
    ">\n",
    "> Decimate all competition make them hate for you to mention\n",
    "> That the only way to survive is full submission\n",
    "> Leave them wishing the coalition had a chance\n",
    "> We were vision something other than plagiarism\n",
    ">\n",
    "> Total demolition I could keep going\n",
    "> But I think you get the picture Satan aint trying me\n",
    "> He knows Im the victim theres never been a war I didnt win\n",
    "> This holy scripture that Im penning is the winning truth serum\n",
    ">\n",
    "> My mixture keeps the demons back\n",
    "> So that you can just relax\n",
    "> I got enough ammunition in my kitchen\n",
    "> To hijack a whole nation of patriots waiting to attack\n",
    ">\n",
    "> I got the juice I let loose\n",
    "> And all these pussies looking whack\n",
    "> No facade Im a militant diligent bard\n",
    "> Who can write a verse that makes heaven quake its not hard\n",
    ">\n",
    "> I just put this pen to paper and take off like a star\n",
    "> I hesitate to debate you I am not gonna spar\n",
    "> I destroy everything that gets in my way\n",
    "> Thats why the devil avoids me cause hes too afraid\n",
    ">\n",
    "> All hell couldnt stop me if they wanted okay\n",
    "> Didnt you get the message Im about to invade\n",
    "> Back at it with the magic my tactics are suits\n",
    "> Before you even pull so I can laugh at your doom\n",
    ">\n",
    "> I gotta master this craft thats pragmatic you fool\n",
    "> I aint waiting for your ass to bounce back its the rule\n",
    "> If you wanna die now I can pencil you in\n",
    "> If youre gonna act wild then it might not end\n",
    ">\n",
    "> As well as you hope I am not your friend\n",
    "> Once this fires stoked cant put it out so dont tempt\n",
    "> Me to let you see a way to escape\n",
    "> I didnt battle the devil that faggot got raped\n",
    ">\n",
    "> I put him back in the box and told him to wait\n",
    "> Because I dont like chasing after my prey\n",
    "> I got a couple of weapons that I like to use\n",
    "> The first is my name Hawkeye is the truth\n",
    ">\n",
    "> When I spit in this booth its uncouth\n",
    "> Theres no use in trying to die why riot when youre just gonna lose\n",
    "> If you wanna die now I can pencil you in\n",
    "> If youre gonna act wild then it might not end\n",
    ">\n",
    "> As well as you hope I am not your friend\n",
    "> Once this fires stoked cant put it out so dont tempt\n",
    "> Me to let you see a way to escape\n",
    "> I didnt battle the devil that faggot got raped\n",
    "> ```\n",
    "---\n",
    "[Back to Album Index](#)"
   ]
  }
 ],
 "metadata": {
  "kernelspec": {
   "display_name": "Python 3 (ipykernel)",
   "language": "python",
   "name": "python3"
  },
  "language_info": {
   "codemirror_mode": {
    "name": "ipython",
    "version": 3
   },
   "file_extension": ".py",
   "mimetype": "text/x-python",
   "name": "python",
   "nbconvert_exporter": "python",
   "pygments_lexer": "ipython3",
   "version": "3.10.11"
  },
  "mode": "editor"
 },
 "nbformat": 4,
 "nbformat_minor": 5
}
