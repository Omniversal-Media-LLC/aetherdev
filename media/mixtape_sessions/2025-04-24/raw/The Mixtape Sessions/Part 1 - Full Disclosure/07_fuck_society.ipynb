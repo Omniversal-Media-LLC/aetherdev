{
 "cells": [
  {
   "attachments": {},
   "cell_type": "markdown",
   "id": "63388d3b-cf90-45b3-94ee-1392a3f0261c",
   "metadata": {
    "id": "63388d3b-cf90-45b3-94ee-1392a3f0261c",
    "map": [
     {
      "command": []
     },
     {
      "command": [
       "AUDIO"
      ]
     },
     {
      "command": [
       "AUDIO"
      ]
     },
     {
      "command": [
       "AUDIO"
      ]
     },
     {
      "command": [
       "AUDIO"
      ]
     },
     {
      "command": [
       "AUDIO"
      ]
     },
     {
      "command": [
       "AUDIO"
      ]
     },
     {
      "command": [
       "PAUSE500"
      ]
     },
     {
      "command": [
       "AUDIO"
      ]
     },
     {
      "command": [
       "AUDIO"
      ]
     },
     {
      "command": [
       "AUDIO"
      ]
     },
     {
      "command": [
       "AUDIO"
      ]
     },
     {
      "command": [
       "AUDIO"
      ]
     },
     {
      "command": [
       "AUDIO"
      ]
     },
     {
      "command": [
       "PAUSE500"
      ]
     },
     {
      "command": [
       "AUDIO"
      ]
     },
     {
      "command": [
       "AUDIO"
      ]
     },
     {
      "command": [
       "PAUSE500"
      ]
     },
     {
      "command": [
       "AUDIO"
      ]
     },
     {
      "command": [
       "AUDIO"
      ]
     },
     {
      "command": [
       "AUDIO"
      ]
     },
     {
      "command": [
       "PAUSE500"
      ]
     },
     {
      "command": [
       "AUDIO"
      ]
     },
     {
      "command": [
       "AUDIO"
      ]
     },
     {
      "command": [
       "AUDIO"
      ]
     },
     {
      "command": [
       "AUDIO"
      ]
     },
     {
      "command": [
       "AUDIO"
      ]
     },
     {
      "command": [
       "AUDIO"
      ]
     },
     {
      "command": [
       "AUDIO"
      ]
     },
     {
      "command": [
       "AUDIO"
      ]
     },
     {
      "command": [
       "PAUSE500"
      ]
     },
     {
      "command": [
       "PAUSE500"
      ]
     },
     {
      "command": [
       "AUDIO"
      ]
     },
     {
      "command": [
       "AUDIO"
      ]
     },
     {
      "command": [
       "AUDIO"
      ]
     },
     {
      "command": [
       "AUDIO"
      ]
     }
    ]
   },
   "source": [
    "# 🎵 Fuck Society *(First Testament Finale)*\n",
    "---\n",
    "**Album:** Full Disclosure 2020  \n",
    "**Performed by:** Hawk Eye The Rapper  \n",
    "**Label:** LulzSwag Records  \n",
    "**Genre:** Rap  \n",
    "**UPC:** 885007879183  \n",
    "\n",
    "🗃️ **Track Metadata**  \n",
    "&nbsp;&nbsp;• Track #: 07  \n",
    "&nbsp;&nbsp;• Title: Fuck Society  \n",
    "&nbsp;&nbsp;• Artist: Hawk Eye The Rapper  \n",
    "&nbsp;&nbsp;• Project: Full Disclosure  \n",
    "&nbsp;&nbsp;• Released: March 1 st, 2020  \n",
    "\n",
    "&nbsp;&nbsp;&nbsp;&nbsp;**Dedicated to the late Max Spiers**  \n",
    "---\n",
    "\n",
    "> **Lyrics — Web Format**  \n",
    ">\n",
    "> ```markdown\n",
    "> *So I just decided, fuck it…* *(spoken intro)*  \n",
    "> *I’m gonna sleep in a tent… do what I love…*  \n",
    ">   \n",
    "> Fuck society, they lie to me  \n",
    "> I feel them when they’re eyeing me  \n",
    "> I know I got a young side, but why these bitches trying me?  \n",
    "> Don’t they know I’m infinite?  \n",
    ">   \n",
    "> War games in the shit, go check your box, I’m sending it  \n",
    "> Bomb threats when I spit, text away I’m at home  \n",
    "> Shitting on the microphone  \n",
    "> You know something that I don’t?  \n",
    ">   \n",
    "> … *(verses continue exactly as provided)* …  \n",
    ">   \n",
    "> I hope a way to summarize  \n",
    "> Will be okay  \n",
    "> No need to give up  \n",
    "> Trust me—I’ll keep these demons in the bank  \n",
    "> ```\n",
    "---\n",
    "\n",
    "> **EverLight’s Rite**  \n",
    "> *Lyrical Dissection & Commentary*  \n",
    "> Track: **Fuck Society** — *Full Disclosure 2020*  \n",
    ">   \n",
    "> **First Testament Finale** — This cut closes the album’s “First Testament” arc: denunciation, exposure, and psychic warfare. Hawk’s battle cry “Fuck society” isn’t nihilism—it’s a refusal to comply with a system he deems fundamentally inverted.  \n",
    ">   \n",
    "> **Street Tent ↔ Star Tent** — The opening sample (musician vowing to live in a tent to keep playing) mirrors Hawk’s own ascetic vow: ditch material comforts, wield music as a liberation tool.  \n",
    ">   \n",
    "> **Matrix vs. Mission** — Lines about “matrix traps” and “higher vibrational beings incarnating down here” fold New‑Age cosmology into hardcore rap, culminating in the creed **“Reincarnated to Resist.”**  \n",
    ">   \n",
    "> **Structure** — Alternates between rap stanzas and two spoken‑word monologues (self‑recorded rants). The breaks slow the BPM, letting listeners digest heavier claims before the next verbal barrage.  \n",
    ">   \n",
    "> **Target List** — Pedophilia, transhumanism, gender inversion, 3‑D prison—Hawk frames them as symptoms of one parasite culture. The repeated “fuck society” hook ties each grievance back to the same root.  \n",
    ">   \n",
    "> **Stage Visual Cue** — During the chorus, LED screens flash social‑media headlines about each “obvious” inversion while Hawk stands inside a chain‑link cage that shatters open on the final drop.  \n",
    ">   \n",
    "> [Deep‑Dive Essay ➡️](#) | [Album Story Arc](#) | [Who Was Max Spiers?](#)\n",
    "---\n",
    "\n",
    "> **DistroKid Ready — Lyric Submission Form**  \n",
    ">\n",
    "> ```text\n",
    "> Fuck society they lie to me\n",
    "> I feel them when they’re eyeing me\n",
    "> I know I got a young side but why these bitches trying me\n",
    "> Dont they know I’m infinite\n",
    ">\n",
    "> War games in the shit go check your box I’m sending it\n",
    "> Bomb threats when I spit text away I’m at home\n",
    "> Shitting on the microphone\n",
    "> You know something that I dont\n",
    ">\n",
    "> Told yall I’m just writing songs\n",
    "> Got witnesses I’m in my zone\n",
    "> Psychobabble fuck these towers\n",
    "> I know how to rape these cowards\n",
    ">\n",
    "> Take and replace the power\n",
    "> In loose sleeve graphite leaks\n",
    "> Pitch a jet smoke a leaf\n",
    "> Sacred fire Hawks a liar\n",
    ">\n",
    "> I think he should join the choir\n",
    "> Preaching at me like a clone\n",
    "> I’m teaching at least go find a home\n",
    "> I think that we should each move on\n",
    ">\n",
    "> Instead of fighting for the throne\n",
    "> I’m willing to win this war\n",
    "> If we even know its war\n",
    "> Cause everybody’s gotta start\n",
    ">\n",
    "> Doing his or her part\n",
    "> To change this world there’s more\n",
    "> Than all these words I’m meant to impart\n",
    "> Sussing this through your heart\n",
    ">\n",
    "> So you dont stumble in the dark\n",
    "> I like to guide find your way\n",
    "> A bright side to keep you brave\n",
    "> Something else I should shake\n",
    ">\n",
    "> This shit will never ever change\n",
    "> And you will always be a slave\n",
    "> If this system keeps persisting\n",
    "> Showtime means you need a vision\n",
    ">\n",
    "> A life outside this place is prison\n",
    "> 3D is anchoring down the rest\n",
    "> And until it is dealt with here and until this is fixed\n",
    "> Its causing trouble for the other higher frequencies too\n",
    ">\n",
    "> Thats why the higher vibrational beings are incarnating down here\n",
    "> To help because its been going on too long now\n",
    "> Its really really been going on so long that\n",
    "> And people are not realising\n",
    ">\n",
    "> Its so in your face its so clearly in your face\n",
    "> And people are still not realising that its going on\n",
    "> Fuck society I’m rioting\n",
    "> I cant believe I’m piloting\n",
    ">\n",
    "> This skeleton so delicate\n",
    "> Through hell again to devils men\n",
    "> Hawking’s back he’s heaven sent\n",
    "> I’ve come to yell its evident\n",
    ">\n",
    "> And I will never let him win\n",
    "> Reincarnated to resist\n",
    "> If I thought that I could fail\n",
    "> I never would have come to tell\n",
    ">\n",
    "> The story of our former glory\n",
    "> Now I must assail\n",
    "> This attack is aimed at you\n",
    "> All you demons think you’re cuter\n",
    ">\n",
    "> Soulless soul can break home through\n",
    "> Your cage and glue away\n",
    "> Who knew that I could come back with facts\n",
    "> And make all your foundations\n",
    ">\n",
    "> Wrecked by vision\n",
    "> Take all nations back creations waiting\n",
    "> I attack everything that you constructed\n",
    "> Told you bitches not to fuck with me\n",
    ">\n",
    "> So now I’ll make you see\n",
    "> Why I really wasnt bluffing\n",
    "> And take the devil back to hell\n",
    "> Goodbye Satan wishing well\n",
    ">\n",
    "> This war is over\n",
    "> All my friends are luminous\n",
    "> Cant make amends\n",
    "> Earth called out I’m back again\n",
    ">\n",
    "> And now my tribe can start to mend\n",
    "> The damage done by wavering\n",
    "> And God forgives us for our sins\n",
    "> If we ever lose our way\n",
    ">\n",
    "> Then I just hope and pray\n",
    "> That our stars will shine\n",
    "> And remind us of a brighter day\n",
    "> Than light can take\n",
    ">\n",
    "> I hope a way to summarize\n",
    "> Will be okay\n",
    "> No need to give up\n",
    "> Trust me I’ll keep these demons in the bank\n",
    "> ```\n",
    "---\n",
    "[Back to Album Index](#)"
   ]
  }
 ],
 "metadata": {
  "kernelspec": {
   "display_name": "Python 3 (ipykernel)",
   "language": "python",
   "name": "python3"
  },
  "language_info": {
   "codemirror_mode": {
    "name": "ipython",
    "version": 3
   },
   "file_extension": ".py",
   "mimetype": "text/x-python",
   "name": "python",
   "nbconvert_exporter": "python",
   "pygments_lexer": "ipython3",
   "version": "3.10.11"
  },
  "mode": "editor"
 },
 "nbformat": 4,
 "nbformat_minor": 5
}
