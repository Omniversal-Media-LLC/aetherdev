{
 "cells": [
  {
   "attachments": {},
   "cell_type": "markdown",
   "id": "576781b8-7349-4fae-88cd-35bcf196c258",
   "metadata": {
    "id": "576781b8-7349-4fae-88cd-35bcf196c258",
    "map": [
     {
      "command": []
     },
     {
      "command": [
       "AUDIO"
      ]
     },
     {
      "command": [
       "AUDIO"
      ]
     },
     {
      "command": [
       "AUDIO"
      ]
     },
     {
      "command": [
       "AUDIO"
      ]
     },
     {
      "command": [
       "AUDIO"
      ]
     },
     {
      "command": [
       "AUDIO"
      ]
     },
     {
      "command": [
       "PAUSE500"
      ]
     },
     {
      "command": [
       "AUDIO"
      ]
     },
     {
      "command": [
       "AUDIO"
      ]
     },
     {
      "command": [
       "AUDIO"
      ]
     },
     {
      "command": [
       "AUDIO"
      ]
     },
     {
      "command": [
       "AUDIO"
      ]
     },
     {
      "command": [
       "AUDIO"
      ]
     },
     {
      "command": [
       "PAUSE500"
      ]
     },
     {
      "command": [
       "AUDIO"
      ]
     },
     {
      "command": [
       "AUDIO"
      ]
     },
     {
      "command": [
       "PAUSE500"
      ]
     },
     {
      "command": [
       "AUDIO"
      ]
     },
     {
      "command": [
       "AUDIO"
      ]
     },
     {
      "command": [
       "AUDIO"
      ]
     },
     {
      "command": [
       "PAUSE500"
      ]
     },
     {
      "command": [
       "AUDIO"
      ]
     },
     {
      "command": [
       "AUDIO"
      ]
     },
     {
      "command": [
       "AUDIO"
      ]
     },
     {
      "command": [
       "AUDIO"
      ]
     },
     {
      "command": [
       "AUDIO"
      ]
     },
     {
      "command": [
       "AUDIO"
      ]
     },
     {
      "command": [
       "AUDIO"
      ]
     },
     {
      "command": [
       "AUDIO"
      ]
     },
     {
      "command": [
       "PAUSE500"
      ]
     },
     {
      "command": [
       "PAUSE500"
      ]
     },
     {
      "command": [
       "AUDIO"
      ]
     },
     {
      "command": [
       "AUDIO"
      ]
     },
     {
      "command": [
       "AUDIO"
      ]
     },
     {
      "command": [
       "AUDIO"
      ]
     }
    ]
   },
   "source": [
    "# 🎵 The Story of Our Former Glory\n",
    "---\n",
    "**Album:** Full Disclosure 2020  \n",
    "**Performed by:** Hawk Eye The Rapper  \n",
    "**Label:** LulzSwag Records  \n",
    "**Genre:** Rap  \n",
    "**UPC:** 885007879183  \n",
    "**Track #: 15 (Finale)** • **Released:** 2020‑03‑01  \n",
    "&nbsp;&nbsp;&nbsp;&nbsp;**Dedicated to the late Max Spiers**  \n",
    "---\n",
    "\n",
    "> **Lyrics — Web Format (excerpt)**  \n",
    "> ```markdown\n",
    "> Straight flames when I float make the devil lose his hold on these people  \n",
    "> All this evil better recall when I show cause I came to cause static …  \n",
    "> ```\n",
    "---\n",
    "\n",
    "> **EverLight’s Rite — Lyrical Dissection & Commentary**  \n",
    "> **Return of the Glory Code** — The closer zooms out from individual battles to cosmic history: Hawk Eye claims memories “before Eden,” framing humanity’s fall and potential rebirth as a cyclic script.  \n",
    "> **Narrative Resolution** — Where Track 01 pledged *full disclosure*, Track 15 provides the “former glory” back‑story and sketches the future timeline—victory, DNA re‑activation, planetary ascent.  \n",
    "> **Spoken Ascension Thesis** — The outro sample reframes **ascension** as “human advancement,” grounding mystical language in bio‑energetic science (DNA switching on, solar codes). It echoes the Laura‑style monologues from Tracks 11–12, tying the arc together.  \n",
    "> **Musical Motifs** — The beat reprises Swordfish’s opening synth in half‑time, signaling the loop has closed; choir pads swell on each “we will all remember when.”  \n",
    "> **Live Visual Cue** — House lights rise from deep red to full‑white during the final chorus as stage screens show a rotating DNA helix morphing into a feathered hawk sigil—glory restored.  \n",
    "> [Album‑Wrap Essay ➡️](#)\n",
    "---\n",
    "\n",
    "> **DistroKid Ready — Lyric Submission Form**  \n",
    "> *(plain text • 4‑line stanzas • punctuation removed)*  \n",
    "> ```text\n",
    "> Straight flames when I float make the devil lose his hold on these people\n",
    "> All this evil better recall when I show cause I came to cause static\n",
    "> Put Satan in a casket send his demons back to hell and wish him well\n",
    "> Im dogmatic once they rest in peace and all these war games cease\n",
    ">\n",
    "> We can finally be released from this matrix that keeps us flying to the truth\n",
    "> You can see it in the youth were divine at our roots\n",
    "> We got all the attributes but thats another story\n",
    "> First we gotta win this war see Ive been fighting since before\n",
    ">\n",
    "> We gave away our former glory my souls so old it would scare you\n",
    "> If I told you what I remember divine embers now behold\n",
    "> It is written in the stars we are warriors at heart\n",
    "> Reincarnated beings yeah we came in from afar\n",
    ">\n",
    "> Protect this planet at a loss from the demons in the box\n",
    "> Lets take a look at what weve lost we used to all be amazed\n",
    "> By the life that we saved instead of rotting in a grave\n",
    "> We just decided that we stayed but those days are long gone\n",
    ">\n",
    "> And now were taking roles on ever present this peasant still spawns\n",
    "> In our mind it just blinds and keeps us in this line\n",
    "> If I could just remind you then wed all be fine\n",
    "> But this life a parasite a scourge of sight so in this fight\n",
    ">\n",
    "> Theres no light its not right but theres time\n",
    "> The devil hasnt won I am back he is done\n",
    "> Now just listen to my raps I insist this is fun\n",
    "> When our tribe comes together theres no storm we cant weather\n",
    ">\n",
    "> You dont have to believe me but I wrote you this letter\n",
    "> Warriors dont cave under pressure they fight back for the pleasure\n",
    "> Honor the call and protect this treasure\n",
    "> Tell the devil that youre ready for whatever\n",
    ">\n",
    "> When this cycle ends we will all remember when\n",
    "> Hawkeye and his friends came back just to send\n",
    "> A message to the demons yes I mean it I have truly seen it\n",
    "> I was here before Eden the anxious ever turned\n",
    ">\n",
    "> But none of you have learned thats why Im teaching as I preach\n",
    "> So I can reach you in a verse you are not alone\n",
    "> Your tribe is here you are home and in the sacred tomb\n",
    "> I crafted this song so that when you hear it\n",
    ">\n",
    "> You can study my lyrics so no need to fear\n",
    "> Hawkeye is here all of these darkened days will soon be replaced\n",
    "> So with grace dear soul keep the faith\n",
    "> So almost like both exist so we have sort of this false grid\n",
    ">\n",
    "> And then we have the real shift happening which we would call ascension\n",
    "> But to me that word has been so misunderstood\n",
    "> I just look at it as human advancement\n",
    "> Our capacity to switch on our DNA again\n",
    ">\n",
    "> And recognize that its coming through the codes of nature\n",
    "> Its coming through the core sun within the earth\n",
    "> And its coming from the grand central sun and the light codes streaming in\n",
    "> And if we can align with that were going to easily advance ourselves\n",
    "> ```\n",
    "---\n",
    "[Back to Album Index](#)"
   ]
  }
 ],
 "metadata": {
  "kernelspec": {
   "display_name": "Python 3 (ipykernel)",
   "language": "python",
   "name": "python3"
  },
  "language_info": {
   "codemirror_mode": {
    "name": "ipython",
    "version": 3
   },
   "file_extension": ".py",
   "mimetype": "text/x-python",
   "name": "python",
   "nbconvert_exporter": "python",
   "pygments_lexer": "ipython3",
   "version": "3.10.11"
  },
  "mode": "editor"
 },
 "nbformat": 4,
 "nbformat_minor": 5
}
