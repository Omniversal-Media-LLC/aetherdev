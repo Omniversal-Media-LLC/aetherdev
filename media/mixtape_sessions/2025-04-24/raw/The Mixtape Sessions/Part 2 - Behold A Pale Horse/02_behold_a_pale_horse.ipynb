{
 "cells": [
  {
   "cell_type": "markdown",
   "id": "6e992534",
   "metadata": {
    "id": "6e992534",
    "map": [
     {
      "command": []
     },
     {
      "command": [
       "PAUSE500"
      ]
     },
     {
      "command": [
       "AUDIO"
      ]
     },
     {
      "command": [
       "PAUSE500"
      ]
     },
     {
      "command": [
       "AUDIO"
      ]
     },
     {
      "command": [
       "AUDIO"
      ]
     },
     {
      "command": [
       "AUDIO"
      ]
     },
     {
      "command": [
       "AUDIO"
      ]
     },
     {
      "command": [
       "AUDIO"
      ]
     },
     {
      "command": [
       "AUDIO"
      ]
     },
     {
      "command": [
       "PAUSE500"
      ]
     },
     {
      "command": [
       "AUDIO"
      ]
     },
     {
      "command": [
       "AUDIO"
      ]
     },
     {
      "command": [
       "AUDIO"
      ]
     }
    ]
   },
   "source": [
    "# 🎵 Behold A Pale Horse\n",
    "\n",
    "**Album:** Behold A Pale Horse 2020\n",
    "\n",
    "**Performed by:** Hawk Eye\n",
    "**Label:** LulzSwag Records\n",
    "**Genre:** Rap\n",
    "**UPC:** 885007879206\n",
    "**Release Date:** 2020-07-04\n",
    "**Dedicated to the late Milton William Cooper**\n",
    "\n",
    "```text\n",
    "[PASTE LYRICS HERE]\n",
    "```"
   ]
  },
  {
   "attachments": {},
   "cell_type": "markdown",
   "id": "b76d8f17-5adc-4a99-83a8-a0c6dff4bb6e",
   "metadata": {
    "id": "b76d8f17-5adc-4a99-83a8-a0c6dff4bb6e",
    "map": [
     {
      "command": []
     },
     {
      "command": [
       "AUDIO"
      ]
     },
     {
      "command": [
       "AUDIO"
      ]
     },
     {
      "command": [
       "AUDIO"
      ]
     },
     {
      "command": [
       "AUDIO"
      ]
     },
     {
      "command": [
       "AUDIO"
      ]
     },
     {
      "command": [
       "AUDIO"
      ]
     },
     {
      "command": [
       "PAUSE500"
      ]
     },
     {
      "command": [
       "AUDIO"
      ]
     },
     {
      "command": [
       "AUDIO"
      ]
     },
     {
      "command": [
       "AUDIO"
      ]
     },
     {
      "command": [
       "AUDIO"
      ]
     },
     {
      "command": [
       "AUDIO"
      ]
     },
     {
      "command": [
       "AUDIO"
      ]
     },
     {
      "command": [
       "PAUSE500"
      ]
     },
     {
      "command": [
       "AUDIO"
      ]
     },
     {
      "command": [
       "AUDIO"
      ]
     },
     {
      "command": [
       "PAUSE500"
      ]
     },
     {
      "command": [
       "AUDIO"
      ]
     },
     {
      "command": [
       "AUDIO"
      ]
     },
     {
      "command": [
       "AUDIO"
      ]
     },
     {
      "command": [
       "PAUSE500"
      ]
     },
     {
      "command": [
       "AUDIO"
      ]
     },
     {
      "command": [
       "AUDIO"
      ]
     },
     {
      "command": [
       "AUDIO"
      ]
     },
     {
      "command": [
       "AUDIO"
      ]
     },
     {
      "command": [
       "AUDIO"
      ]
     },
     {
      "command": [
       "AUDIO"
      ]
     },
     {
      "command": [
       "AUDIO"
      ]
     },
     {
      "command": [
       "AUDIO"
      ]
     },
     {
      "command": [
       "PAUSE500"
      ]
     },
     {
      "command": [
       "PAUSE500"
      ]
     },
     {
      "command": [
       "AUDIO"
      ]
     },
     {
      "command": [
       "AUDIO"
      ]
     },
     {
      "command": [
       "AUDIO"
      ]
     },
     {
      "command": [
       "AUDIO"
      ]
     }
    ]
   },
   "source": [
    "# 🎵 Menace To Society\n",
    "---\n",
    "**Album:** Behold A Pale Horse 2020  \n",
    "**Performed by:** Hawk Eye The Rapper  \n",
    "**Label:** LulzSwag Records  \n",
    "**Genre:** Rap  \n",
    "**UPC:** 885007879206  \n",
    "\n",
    "🗃️ **Track Metadata**  \n",
    "    • Track #: 07  \n",
    "    • Title: Menace To Society  \n",
    "    • Artist: Hawk Eye The Rapper  \n",
    "    • Project: Behold A Pale Horse  \n",
    "    released July 4th, 2020  \n",
    "\n",
    "                    **Dedicated to the late Milton William Cooper**\n",
    "---\n",
    "\n",
    "---\n",
    "> **Lyrics — Web Format**\n",
    "> Paste formatted lyrics here\n",
    "\n",
    "---\n",
    "> **EverLight’s Rite**\n",
    "> Lyrical Dissection & Commentary\n",
    "> Track: Kamikaze — Behold A Pale Horse 2020\n",
    "> Content that Evernote Wrote about the track!\n",
    "> [Next Track ➡️](#)\n",
    "> [Full Album Page](#)\n",
    "> [Related: William Cooper](#)\n",
    "\n",
    "\n",
    "---\n",
    "> **DistroKid Ready — Lyric Submission Form**\n",
    "> Paste DistroKid-formatted lyrics here\n",
    "> [Back to Album Index](#)"
   ]
  }
 ],
 "metadata": {
  "kernelspec": {
   "display_name": "Python 3 (ipykernel)",
   "language": "python",
   "name": "python3"
  },
  "language_info": {
   "codemirror_mode": {
    "name": "ipython",
    "version": 3
   },
   "file_extension": ".py",
   "mimetype": "text/x-python",
   "name": "python",
   "nbconvert_exporter": "python",
   "pygments_lexer": "ipython3",
   "version": "3.10.11"
  },
  "mode": "editor"
 },
 "nbformat": 4,
 "nbformat_minor": 5
}
