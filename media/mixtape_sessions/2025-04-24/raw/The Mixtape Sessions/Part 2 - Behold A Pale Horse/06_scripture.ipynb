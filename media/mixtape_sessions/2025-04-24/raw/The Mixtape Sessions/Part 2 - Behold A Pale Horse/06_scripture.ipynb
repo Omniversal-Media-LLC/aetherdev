{
 "cells": [
  {
   "cell_type": "markdown",
   "id": "15806e83",
   "metadata": {
    "id": "15806e83",
    "map": [
     {
      "command": []
     },
     {
      "command": [
       "PAUSE500"
      ]
     },
     {
      "command": [
       "AUDIO"
      ]
     },
     {
      "command": [
       "PAUSE500"
      ]
     },
     {
      "command": [
       "AUDIO"
      ]
     },
     {
      "command": [
       "AUDIO"
      ]
     },
     {
      "command": [
       "AUDIO"
      ]
     },
     {
      "command": [
       "AUDIO"
      ]
     },
     {
      "command": [
       "AUDIO"
      ]
     },
     {
      "command": [
       "AUDIO"
      ]
     },
     {
      "command": [
       "PAUSE500"
      ]
     },
     {
      "command": [
       "AUDIO"
      ]
     },
     {
      "command": [
       "AUDIO"
      ]
     },
     {
      "command": [
       "AUDIO"
      ]
     }
    ]
   },
   "source": [
    "# 🎵 Scripture\n",
    "\n",
    "**Album:** Behold A Pale Horse 2020\n",
    "\n",
    "**Performed by:** Hawk Eye\n",
    "**Label:** LulzSwag Records\n",
    "**Genre:** Rap\n",
    "**UPC:** 885007879206\n",
    "**Release Date:** 2020-07-04\n",
    "**Dedicated to the late Milton William Cooper**\n",
    "\n",
    "```text\n",
    "[PASTE LYRICS HERE]\n",
    "```"
   ]
  },
  {
   "attachments": {},
   "cell_type": "markdown",
   "id": "9bb77d8a-a02e-4dc9-ba8f-fc145f1dd32a",
   "metadata": {
    "id": "9bb77d8a-a02e-4dc9-ba8f-fc145f1dd32a",
    "map": [
     {
      "command": []
     },
     {
      "command": [
       "AUDIO"
      ]
     },
     {
      "command": [
       "AUDIO"
      ]
     },
     {
      "command": [
       "AUDIO"
      ]
     },
     {
      "command": [
       "AUDIO"
      ]
     },
     {
      "command": [
       "AUDIO"
      ]
     },
     {
      "command": [
       "AUDIO"
      ]
     },
     {
      "command": [
       "PAUSE500"
      ]
     },
     {
      "command": [
       "AUDIO"
      ]
     },
     {
      "command": [
       "AUDIO"
      ]
     },
     {
      "command": [
       "AUDIO"
      ]
     },
     {
      "command": [
       "AUDIO"
      ]
     },
     {
      "command": [
       "AUDIO"
      ]
     },
     {
      "command": [
       "AUDIO"
      ]
     },
     {
      "command": [
       "PAUSE500"
      ]
     },
     {
      "command": [
       "AUDIO"
      ]
     },
     {
      "command": [
       "AUDIO"
      ]
     },
     {
      "command": [
       "PAUSE500"
      ]
     },
     {
      "command": [
       "AUDIO"
      ]
     },
     {
      "command": [
       "AUDIO"
      ]
     },
     {
      "command": [
       "AUDIO"
      ]
     },
     {
      "command": [
       "PAUSE500"
      ]
     },
     {
      "command": [
       "AUDIO"
      ]
     },
     {
      "command": [
       "AUDIO"
      ]
     },
     {
      "command": [
       "AUDIO"
      ]
     },
     {
      "command": [
       "AUDIO"
      ]
     },
     {
      "command": [
       "AUDIO"
      ]
     },
     {
      "command": [
       "AUDIO"
      ]
     },
     {
      "command": [
       "AUDIO"
      ]
     },
     {
      "command": [
       "AUDIO"
      ]
     },
     {
      "command": [
       "PAUSE500"
      ]
     },
     {
      "command": [
       "PAUSE500"
      ]
     },
     {
      "command": [
       "AUDIO"
      ]
     },
     {
      "command": [
       "AUDIO"
      ]
     },
     {
      "command": [
       "AUDIO"
      ]
     },
     {
      "command": [
       "AUDIO"
      ]
     }
    ]
   },
   "source": [
    "# 🎵 Menace To Society\n",
    "---\n",
    "**Album:** Behold A Pale Horse 2020  \n",
    "**Performed by:** Hawk Eye The Rapper  \n",
    "**Label:** LulzSwag Records  \n",
    "**Genre:** Rap  \n",
    "**UPC:** 885007879206  \n",
    "\n",
    "🗃️ **Track Metadata**  \n",
    "    • Track #: 06  \n",
    "    • Title: Scripture  \n",
    "    • Artist: Hawk Eye The Rapper  \n",
    "    • Project: Behold A Pale Horse  \n",
    "    released July 4th, 2020  \n",
    "\n",
    "                    **Dedicated to the late Milton William Cooper**\n",
    "---\n",
    "\n",
    "---\n",
    "> **Lyrics — Web Format**\n",
    "> They're not going to let me get away with doing this forever  \n",
    "So the day they come and put me in prison and kill me, you'll all know that for sure  \n",
    "Because it will happen sometime in the future  \n",
    "I don't know exactly when  \n",
    "But it will  \n",
    "And I know that  \n",
    "\n",
    "Pay attention  \n",
    "Because this is a true story  \n",
    "As I speak the truth, they proceed to tie the noose  \n",
    "And all my hopes and dreams turn to strings  \n",
    "\n",
    "I find there's no use in trying to escape  \n",
    "It's too late, my fate was sealed  \n",
    "When I revealed all the people that they've killed  \n",
    "I told the world about the girls and boys they sell  \n",
    "\n",
    "Now they're looking for a way to make me pay  \n",
    "I wish them well  \n",
    "They'll never break this soul  \n",
    "It's too old, I'm too bold to let these bitches make me fold  \n",
    "\n",
    "I can never be controlled  \n",
    "Try to take me off the picture  \n",
    "I'll just pin a new scripture  \n",
    "My elixir is a mixture too defiant to be dismissed  \n",
    "\n",
    "Or I'll expose everything I can find  \n",
    "Until you ring a pedophilic  \n",
    "Traffic urge gets massacred  \n",
    "I sing for those who never had a voice  \n",
    "\n",
    "And all those little catholic boys  \n",
    "You wish you had a different noise to haunt you  \n",
    "But you have no choice  \n",
    "Hawkeye's on a mission  \n",
    "\n",
    "So just sit back and listen  \n",
    "I forgot to mention  \n",
    "My Smith and Wesson isn't missing  \n",
    "Everything they've tried hasn't stopped me yet  \n",
    "\n",
    "I bet that if I check the news  \n",
    "I'll find out who to threaten next  \n",
    "Attack the president  \n",
    "It's evident I'm never gonna quit  \n",
    "\n",
    "So when I'm hesitant  \n",
    "Just know that I will never benefit  \n",
    "From these selfless acts of heroism  \n",
    "They'll just call it terrorism  \n",
    "\n",
    "Then they will send a guild of assassins  \n",
    "With a casket that they have custom built just for me  \n",
    "This hopeless scene is their attempt to hide their guilt  \n",
    "But I never fear  \n",
    "\n",
    "All I hear are their hopes unfulfilled  \n",
    "They have never been too clever  \n",
    "My endeavor's not to yield  \n",
    "Full disclosure  \n",
    "\n",
    "Their composure seems bolder than it is  \n",
    "But when it's all revealed, then we'll see who's getting killed  \n",
    "Yeah, they got my boy Max  \n",
    "But all these Matrix attacks can't detract  \n",
    "\n",
    "From the fact they're running scared  \n",
    "I'm setting traps as I expose the truth  \n",
    "I mourn my youth of innocence  \n",
    "I lost those cute  \n",
    "\n",
    "But ignorance just doesn't suit me anymore  \n",
    "This uncouth, sedimented world starts to curl  \n",
    "Up tentacles around young girls  \n",
    "Untwisted men get born again with sentences that make me hurl  \n",
    "\n",
    "But if you try to right these wrongs  \n",
    "You'll find that you do not belong  \n",
    "An outcast you'll forever be  \n",
    "If you show your ass like me  \n",
    "\n",
    "So only speak out if you know that you can withstand the cold  \n",
    "No one seems to give a shit until your 9-11 quits  \n",
    "Implicate the government  \n",
    "It shows you don't stand under it  \n",
    "\n",
    "You understand who's running this  \n",
    "It's mind-controlling pundits  \n",
    "Kid, if William Cooper wasn't dead  \n",
    "Maybe then I'd trust the feds  \n",
    "\n",
    "He wrote that book and then they took him out like he was just a crook  \n",
    "And everyone who dares to make a statement gets their payment  \n",
    "This enslavement means displacement by an agent  \n",
    "You can't escape it  \n",
    "\n",
    "So while I still have life in me  \n",
    "I choose to be twice as mean  \n",
    "They can roll the dice and see  \n",
    "But my advice is start to flee  \n",
    "\n",
    "When I'm done, they'll see I won  \n",
    "But I try to tell them all to run  \n",
    "Don't they know I'm having fun?  \n",
    "Come at me with your plastic guns  \n",
    "\n",
    "Every time I shine my light upon these demons  \n",
    "They don't fight  \n",
    "They bitch and moan  \n",
    "And then go home  \n",
    "\n",
    "And try to show me they're alright  \n",
    "But if I'm truly not a threat  \n",
    "Then why haven't they killed me yet?  \n",
    "I'll tell you why  \n",
    "\n",
    "Cause when I die  \n",
    "My martyrdom will then infect the world  \n",
    "The world  \n",
    "I'll infect the world  \n",
    "The world  \n",
    "I'll infect the world  \n",
    "\n",
    "---\n",
    "> **EverLight’s Rite**\n",
    "> Lyrical Dissection & Commentary\n",
    "> Track: Kamikaze — Behold A Pale Horse 2020\n",
    "> Content that Evernote Wrote about the track!\n",
    "> 🧠 EverLight’s Rite – Infect the World\n",
    "\n",
    "Martyr’s Premonition — Infect the World is the emotional nucleus of the album. Hawk Eye channels the fear, grief, rage, and inevitability that truth-tellers feel. Every line drips with prophetic resignation. It’s the sound of someone who has already accepted the cost of resistance.\n",
    "\n",
    "Whistleblower to Warlord Arc — This track transitions from exposé to execution. From “I told the world about the girls and boys they sell” to “my martyrdom will then infect the world,” it’s no longer about warnings — it’s a spiritual contagion.\n",
    "\n",
    "Symbol: Infection — “Infection” becomes a holy virus. It’s the antithesis of mind control. If the system spreads lies like disease, Hawk Eye’s lyrics become the cure — invasive, irreversible, and untreatable.\n",
    "\n",
    "Foreshadowed Fallout — “Why haven’t they killed me yet?” — Hawk turns his survival into a taunt, a dare, a riddle. And if he’s silenced? That silence will scream.\n",
    "\n",
    "Suggested Visuals / Links\n",
    "• Digital glitch halo overlays whenever the word “infect” drops\n",
    "• Visual rewind montage of Max Spiers, Cooper, Assange, Snowden\n",
    "• Bonus Link: The Martyr Mechanism – Resistance Psychology in 4D Ops ➝\n",
    "> [Next Track ➡️](#)\n",
    "> [Full Album Page](#)\n",
    "> [Related: William Cooper](#)\n",
    "\n",
    "\n",
    "---\n",
    "> **DistroKid Ready — Lyric Submission Form**\n",
    "> Paste DistroKid-formatted lyrics here\n",
    "> [Back to Album Index](#)"
   ]
  }
 ],
 "metadata": {
  "kernelspec": {
   "display_name": "Python 3 (ipykernel)",
   "language": "python",
   "name": "python3"
  },
  "language_info": {
   "codemirror_mode": {
    "name": "ipython",
    "version": 3
   },
   "file_extension": ".py",
   "mimetype": "text/x-python",
   "name": "python",
   "nbconvert_exporter": "python",
   "pygments_lexer": "ipython3",
   "version": "3.10.11"
  },
  "mode": "editor"
 },
 "nbformat": 4,
 "nbformat_minor": 5
}
