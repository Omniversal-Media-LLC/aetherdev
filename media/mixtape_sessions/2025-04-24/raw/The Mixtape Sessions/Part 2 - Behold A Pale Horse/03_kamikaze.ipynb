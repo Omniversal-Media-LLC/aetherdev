{
 "cells": [
  {
   "attachments": {},
   "cell_type": "markdown",
   "id": "ce21f94d-6ef8-41e3-a663-4056b88edd89",
   "metadata": {
    "id": "ce21f94d-6ef8-41e3-a663-4056b88edd89",
    "map": [
     {
      "command": []
     },
     {
      "command": [
       "AUDIO"
      ]
     },
     {
      "command": [
       "AUDIO"
      ]
     },
     {
      "command": [
       "AUDIO"
      ]
     },
     {
      "command": [
       "AUDIO"
      ]
     },
     {
      "command": [
       "AUDIO"
      ]
     },
     {
      "command": [
       "AUDIO"
      ]
     },
     {
      "command": [
       "PAUSE500"
      ]
     },
     {
      "command": [
       "AUDIO"
      ]
     },
     {
      "command": [
       "AUDIO"
      ]
     },
     {
      "command": [
       "AUDIO"
      ]
     },
     {
      "command": [
       "AUDIO"
      ]
     },
     {
      "command": [
       "AUDIO"
      ]
     },
     {
      "command": [
       "AUDIO"
      ]
     },
     {
      "command": [
       "PAUSE500"
      ]
     },
     {
      "command": [
       "AUDIO"
      ]
     },
     {
      "command": [
       "AUDIO"
      ]
     },
     {
      "command": [
       "PAUSE500"
      ]
     },
     {
      "command": [
       "AUDIO"
      ]
     },
     {
      "command": [
       "AUDIO"
      ]
     },
     {
      "command": [
       "AUDIO"
      ]
     },
     {
      "command": [
       "PAUSE500"
      ]
     },
     {
      "command": [
       "AUDIO"
      ]
     },
     {
      "command": [
       "AUDIO"
      ]
     },
     {
      "command": [
       "AUDIO"
      ]
     },
     {
      "command": [
       "AUDIO"
      ]
     },
     {
      "command": [
       "AUDIO"
      ]
     },
     {
      "command": [
       "AUDIO"
      ]
     },
     {
      "command": [
       "AUDIO"
      ]
     },
     {
      "command": [
       "AUDIO"
      ]
     },
     {
      "command": [
       "PAUSE500"
      ]
     },
     {
      "command": [
       "PAUSE500"
      ]
     },
     {
      "command": [
       "AUDIO"
      ]
     },
     {
      "command": [
       "AUDIO"
      ]
     },
     {
      "command": [
       "AUDIO"
      ]
     },
     {
      "command": [
       "AUDIO"
      ]
     }
    ]
   },
   "source": [
    "# 🎵 Kamikaze\n",
    "---\n",
    "**Album:** Behold A Pale Horse 2020  \n",
    "**Performed by:** Hawk Eye The Rapper  \n",
    "**Label:** LulzSwag Records  \n",
    "**Genre:** Rap  \n",
    "**UPC:** 885007879206  \n",
    "\n",
    "🗃️ **Track Metadata**  \n",
    "&nbsp;&nbsp;• Track #: 03  \n",
    "&nbsp;&nbsp;• Title: Kamikaze  \n",
    "&nbsp;&nbsp;• Artist: Hawk Eye The Rapper  \n",
    "&nbsp;&nbsp;• Project: Behold A Pale Horse  \n",
    "&nbsp;&nbsp;• Released: July 4 th, 2020  \n",
    "---\n",
    "\n",
    "> **Lyrics — Web Format**  \n",
    ">\n",
    "> This music is an attack on the system, the matrix  \n",
    "> I'm here to destroy it  \n",
    "> Like Neo, I incarnated on purpose  \n",
    "> And check it  \n",
    ">\n",
    "> Yo, pen and paper's all I need to rape this whole scene  \n",
    "> I'ma die for this shit, but first I gotta make em bleed  \n",
    "> So when this soul vibe hits, you'll all know what it means  \n",
    "> Cause I ain't explainin' shit, you better follow while I lead  \n",
    ">\n",
    "> I keep on preachin' for no reason  \n",
    "> Everybody's plottin' treason, but I still reachin' when I'm teachin'  \n",
    "> Cause I'm not applying seasoning, raw truth's in this booth  \n",
    "> No sugarcoats for your tooth, so tell the youth to get used to this abuse  \n",
    ">\n",
    "> There's no excuse,  \n",
    "> This fuckin' matrix better panic  \n",
    "> Cause I planned this, goddammit, I infiltrated like a bandit  \n",
    "> Now I'm here and they stand it — they keep arresting me  \n",
    "> To test and see if they can get the best of me  \n",
    ">\n",
    "> Molesting me with questionings to make me second guess my scheme  \n",
    "> But every move I make is calculated, no mistakes, there's no debate  \n",
    "> Why hesitate to break these snakes I fuckin' hate  \n",
    "> The way this world is run by pedophiles  \n",
    ">\n",
    "> And everyone's too juvenile to take these fuckers out  \n",
    "> But I'm about to turn this dial up a little bit  \n",
    "> You hear this shit, it's venomous  \n",
    "> My fuckin' music makes them lose it, it's so fluidly intent  \n",
    ">\n",
    "> On exposing all opponents I leave them hopeless  \n",
    "> When I spit, blow this whistle, it's official  \n",
    "> I am here till you repent, you goddamn demons  \n",
    "> Better run with this gun, I'm havin' fun  \n",
    ">\n",
    "> All you politicians need to listen, I am not the one  \n",
    "> So if I mention your position, just know your time is done  \n",
    "> So keep on wishin', but this transmission has just begun  \n",
    ">\n",
    "> Yeah, what the fuck y'all gon' do now  \n",
    "> Hawkeye is on your ass  \n",
    "> Y'all ain't notice the world went crazy since my music came out  \n",
    ">\n",
    "> Yo, and everybody's gonna know what you tried to hide  \n",
    "> And every lie that you told, nope, we won't let it slide  \n",
    ">\n",
    "> I know you had high hopes, but the people will decide  \n",
    "> Oh, I see them tying ropes off the steeple, time to die  \n",
    ">\n",
    "> Inciting riots  \n",
    "> I'm the pilot and my kamikaze game is inspired by the violence done to others in your name  \n",
    "> So if you think that you can silence me, then I am takin' aim at Goliath  \n",
    ">\n",
    "> My alliance will kill him all the same  \n",
    "> Chemtrails in the sky, the water's laced with fluoride  \n",
    "> And everybody's fuckin' trapped, makin' money till they die  \n",
    "> They inject the poison at birth to make sure your third eye never opens  \n",
    ">\n",
    "> Keep you broken so that you never try  \n",
    "> But there's a few  \n",
    "> Holdin' true, fuckin' soldiers in this coup  \n",
    "> Showin' you what the news channel tries to hide from view  \n",
    ">\n",
    "> Cause if you knew who was who, here's what the government would do  \n",
    "> They'd round you up in FEMA camps and fill them coffins with your crew  \n",
    ">\n",
    "> William Cooper is now dead  \n",
    "> Them stormtroopers took his head  \n",
    "> And everyone who read his book should take a look at what he said  \n",
    ">\n",
    "> There's not too many heroes left, but I'ma be here with the rest  \n",
    "> Reincarnated to resist, I'll make the devil insist that I relent  \n",
    "> But this advent was meant to leave the system bent  \n",
    ">\n",
    "> So when I'm murdered these absurd words will keep observers penitent  \n",
    "> When I'm gone, the world will say a true legend died today  \n",
    ">\n",
    "> If we keep persistin', then this twisted system is gonna cave…  \n",
    ">\n",
    "> Full disclosure came out  \n",
    "> COVID-19 shut the world down  \n",
    "> Everybody started fuckin' riotin'  \n",
    ">\n",
    "> The fuck is happenin' next, y'all?  \n",
    "> I'll tell you what's happenin' next  \n",
    "> This twisted system is going to cave  \n",
    "> That's the whole reason for my existence  \n",
    ">\n",
    "> To change this shit  \n",
    "> And to protect the Earth from these fuckin' parasites  \n",
    "> Go back and listen to Full Disclosure  \n",
    "> And then start this whole tape over again  \n",
    ">\n",
    "> Listen to the whole story  \n",
    "> Oh, and when that third tape drops  \n",
    "> It's over, game changed  \n",
    "> ```\n",
    "---\n",
    "\n",
    "Track 4 — whenever you're ready, Commander 🦅🔥"
   ]
  }
 ],
 "metadata": {
  "kernelspec": {
   "display_name": "Python 3 (ipykernel)",
   "language": "python",
   "name": "python3"
  },
  "language_info": {
   "codemirror_mode": {
    "name": "ipython",
    "version": 3
   },
   "file_extension": ".py",
   "mimetype": "text/x-python",
   "name": "python",
   "nbconvert_exporter": "python",
   "pygments_lexer": "ipython3",
   "version": "3.10.11"
  },
  "mode": "editor"
 },
 "nbformat": 4,
 "nbformat_minor": 5
}
